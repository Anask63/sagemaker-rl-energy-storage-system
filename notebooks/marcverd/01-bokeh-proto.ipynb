{
 "cells": [
  {
   "cell_type": "markdown",
   "id": "5e306557",
   "metadata": {},
   "source": [
    "# bokeh prototype\n",
    "\n",
    "This prototype uses `pandas-bokeh`. Another option is `hvplot`. Please see their respective documents. For sample recipes of both the packages, see also https://github.com/verdimrc/pyutil/blob/master/notebooks/."
   ]
  },
  {
   "cell_type": "code",
   "execution_count": null,
   "id": "1b95d6aa",
   "metadata": {},
   "outputs": [],
   "source": [
    "%config InlineBackend.figure_format = 'retina'\n",
    "%load_ext autoreload\n",
    "%autoreload 2\n",
    "\n",
    "import bokeh as bk\n",
    "import pandas as pd\n",
    "import pandas_bokeh\n",
    "from bokeh.layouts import gridplot, row, column\n",
    "from bokeh.models import Div\n",
    "from nbutils import Report, ReportIO\n",
    "\n",
    "# Load an existing report. If not exist, create with 00_generate_report.ipynb.\n",
    "report: Report = ReportIO('reports').load()\n",
    "\n",
    "# Size of individual chart\n",
    "figsize = (1280, 240)"
   ]
  },
  {
   "cell_type": "code",
   "execution_count": null,
   "id": "881eb9fc",
   "metadata": {},
   "outputs": [],
   "source": [
    "# Rewards chart.\n",
    "def plot_rewards(rewards_list, **kwargs):\n",
    "    df = pd.DataFrame({\n",
    "        'rewards': rewards_list,\n",
    "        'mean': sum(rewards_list) / len(rewards_list),\n",
    "    })\n",
    "\n",
    "    plot = df.plot_bokeh(\n",
    "        kind=\"line\",\n",
    "        title=\"Rewards\",\n",
    "        xlabel=\"Episode\",\n",
    "        ylabel=\"Mean reward per episode\",\n",
    "        colormap=[\"blue\", \"red\"],\n",
    "        show_figure=False,\n",
    "        **kwargs,\n",
    "    )\n",
    "\n",
    "    # We don't want tooltip on the mean line. Is there a better way than this hack?\n",
    "    # NOTE: hvplot allows specifying df columns to enable hover using `hover_col`.\n",
    "    #       See https://hvplot.holoviz.org/user_guide/Customization.html\n",
    "    #       Seems like a good reason to move to hvplot (though I prefer pandas_bokeh's\n",
    "    #       default layout better).\n",
    "    plot.tools.remove(plot.tools[-1])\n",
    "\n",
    "    return plot\n",
    "\n",
    "\n",
    "bk.io.save(\n",
    "    plot_rewards(report.rewards_list, figsize=figsize),\n",
    "    filename='rewards.html',\n",
    "    resources=bk.resources.INLINE,\n",
    "    title='Rewards'\n",
    ");"
   ]
  },
  {
   "cell_type": "code",
   "execution_count": null,
   "id": "d667b1f1",
   "metadata": {},
   "outputs": [],
   "source": [
    "# Evaluation charts.\n",
    "def plot_analysis(df, **kwargs):\n",
    "    kwargs = dict(**kwargs, show_figure=False)\n",
    "    plots = [\n",
    "        df[['cost', 'price']].plot_bokeh(kind='line', title='Cost vs Price', **kwargs), # TODO: off tooltip on all-but-one line.\n",
    "        df[['action']].plot_bokeh(kind='scatter', title='Actions Taken', **kwargs),\n",
    "        df[['reward']].plot_bokeh(kind='line', title='Rewards', **kwargs),\n",
    "        df[['total_reward']].plot_bokeh(kind='line', title='Total Reward', **kwargs),\n",
    "        df[['energy']].plot_bokeh(kind='line', title='Energy (Inventory Level)', **kwargs),\n",
    "    ]\n",
    "    return plots\n",
    "\n",
    "grid_analysis = gridplot(\n",
    "    plot_analysis(report.df_history, figsize=figsize),\n",
    "    ncols=1,\n",
    "    merge_tools=False,\n",
    ")\n",
    "\n",
    "bk.io.save(\n",
    "    grid_analysis,\n",
    "    filename='analysis.html',\n",
    "    resources=bk.resources.INLINE,\n",
    "    title='Analysis'\n",
    ");"
   ]
  },
  {
   "cell_type": "code",
   "execution_count": null,
   "id": "455c206f",
   "metadata": {},
   "outputs": [],
   "source": [
    "# Save another all-in-one .html\n",
    "\n",
    "# NOTE: with pandas-bokeh, save() requires new grid AND p_*, or else exception:\n",
    "#\n",
    "#     RuntimeError: Models must be owned by only a single document, SaveTool(id='1243', ...) is already in a doc\n",
    "#\n",
    "grid_all = column(\n",
    "    Div(text=\"<h1>plot_rewards()</h1>\"),\n",
    "    plot_rewards(report.rewards_list, figsize=figsize),\n",
    "    Div(),\n",
    "    Div(text=\"<h1>plot_analysis()</h1>\", sizing_mode='scale_width', width=figsize[0]),\n",
    "    gridplot(plot_analysis(report.df_history, figsize=figsize), ncols=1, merge_tools=False),\n",
    ")\n",
    "\n",
    "bk.io.save(grid_all, filename='all.html', resources=bk.resources.INLINE, title='All-in-One');"
   ]
  },
  {
   "cell_type": "code",
   "execution_count": null,
   "id": "d1e5f54a",
   "metadata": {},
   "outputs": [],
   "source": []
  }
 ],
 "metadata": {
  "kernelspec": {
   "display_name": "Python 3",
   "language": "python",
   "name": "python3"
  },
  "language_info": {
   "codemirror_mode": {
    "name": "ipython",
    "version": 3
   },
   "file_extension": ".py",
   "mimetype": "text/x-python",
   "name": "python",
   "nbconvert_exporter": "python",
   "pygments_lexer": "ipython3",
   "version": "3.9.5"
  },
  "toc-autonumbering": true
 },
 "nbformat": 4,
 "nbformat_minor": 5
}
