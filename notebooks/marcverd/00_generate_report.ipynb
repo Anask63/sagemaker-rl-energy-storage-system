{
 "cells": [
  {
   "cell_type": "markdown",
   "id": "54390e27",
   "metadata": {},
   "source": [
    "This is a subset of `notebooks/00_battery_sim_notebook-2020.ipynb`: train & evaluate a random agent, then save the report."
   ]
  },
  {
   "cell_type": "code",
   "execution_count": null,
   "id": "a53b7a3f",
   "metadata": {},
   "outputs": [],
   "source": [
    "%config InlineBackend.figure_format = 'retina'\n",
    "%load_ext autoreload\n",
    "%autoreload 2\n",
    "\n",
    "import numpy as np\n",
    "from typing import List\n",
    "from battery_env_sm import SimpleBattery\n",
    "from nbutils import Report, ReportIO, plot_reward, evaluate_episode, plot_analysis\n",
    "\n",
    "env_config = {\"MAX_STEPS_PER_EPISODE\": 168, \"LOCAL\": True, \"FILEPATH\": \"../../refdata/PRICE_AND_DEMAND_2020FULL_NSW1.csv\"}"
   ]
  },
  {
   "cell_type": "markdown",
   "id": "010ed338",
   "metadata": {},
   "source": [
    "# Train"
   ]
  },
  {
   "cell_type": "code",
   "execution_count": null,
   "id": "adf13c9c",
   "metadata": {},
   "outputs": [],
   "source": [
    "from typing import List\n",
    "\n",
    "import matplotlib.pyplot as plt\n",
    "import numpy as np\n",
    "import pandas as pd\n",
    "import seaborn as sns\n",
    "from tqdm import tqdm\n",
    "\n",
    "class SimpleAgent:\n",
    "    \"\"\"\n",
    "    Random agent\n",
    "    \"\"\"\n",
    "\n",
    "    def __init__(self, actions: List):\n",
    "        self.actions = actions\n",
    "\n",
    "    def get_action(self, state):\n",
    "        action = np.random.choice([0, 1, 2])\n",
    "\n",
    "        return action\n",
    "\n",
    "\n",
    "if __name__ == \"__main__\":\n",
    "    np.random.seed(1)\n",
    "    env = SimpleBattery(env_config)\n",
    "    agent = SimpleAgent([SimpleBattery.CHARGE, SimpleBattery.DISCHARGE, SimpleBattery.HOLD])\n",
    "    EPISODE = 100\n",
    "    rewards_list = []\n",
    "    history_list: List = []\n",
    "    for i in tqdm(range(EPISODE)):\n",
    "        done = False\n",
    "        state = env.reset()\n",
    "        total_rewards = 0\n",
    "\n",
    "        while not done:\n",
    "            action = agent.get_action(state)\n",
    "            next_state, reward, done, info = env.step(action)\n",
    "            total_rewards += reward\n",
    "            history_list.append([i] + [total_rewards] + [action] + state)\n",
    "            state = next_state\n",
    "\n",
    "        # print(f\"Episode {i+1} ({env.counter}):{total_rewards}\")\n",
    "        rewards_list.append(total_rewards)\n",
    "\n",
    "    average_reward = sum(rewards_list) / len(rewards_list)\n",
    "    print(f\"Average reward: {average_reward}\")\n",
    "\n",
    "    df_cols = [\n",
    "        \"episode\",\n",
    "        \"total_reward\",\n",
    "        \"action\",\n",
    "        \"energy\",\n",
    "        \"cost\",\n",
    "        \"price\",\n",
    "        \"price_t1\",\n",
    "        \"price_t2\",\n",
    "        \"price_t3\",\n",
    "        \"price_t4\",\n",
    "        \"price_t5\",\n",
    "    ]\n",
    "    df_history = pd.DataFrame(history_list, columns=df_cols)\n",
    "    print(\"df_history\", df_history.shape)"
   ]
  },
  {
   "cell_type": "markdown",
   "id": "3c4d9db2",
   "metadata": {},
   "source": [
    "# Evaluation"
   ]
  },
  {
   "cell_type": "code",
   "execution_count": null,
   "id": "d08f6eac",
   "metadata": {},
   "outputs": [],
   "source": [
    "np.random.seed(2)\n",
    "df_eval = evaluate_episode(agent, env_config)\n",
    "df_eval['reward'].sum()"
   ]
  },
  {
   "cell_type": "code",
   "execution_count": null,
   "id": "f530c9f5",
   "metadata": {},
   "outputs": [],
   "source": [
    "plot_reward(rewards_list)"
   ]
  },
  {
   "cell_type": "markdown",
   "id": "1f277b4b",
   "metadata": {},
   "source": [
    "**Observation**\n",
    "\n",
    "    CHARGE = 0\n",
    "    DISCHARGE = 1\n",
    "    HOLD = 2\n",
    "    \n",
    "- Agent discharge (sell:1) when price is higher than cost, and charge (buy:0)"
   ]
  },
  {
   "cell_type": "code",
   "execution_count": null,
   "id": "941ce49e",
   "metadata": {},
   "outputs": [],
   "source": [
    "np.random.seed(2)\n",
    "df_eval = evaluate_episode(agent, env_config)\n",
    "plot_analysis(df_eval)"
   ]
  },
  {
   "cell_type": "code",
   "execution_count": null,
   "id": "953b5689",
   "metadata": {},
   "outputs": [],
   "source": [
    "df_eval['reward'].sum()"
   ]
  },
  {
   "cell_type": "code",
   "execution_count": null,
   "id": "4d82d6f1",
   "metadata": {},
   "outputs": [],
   "source": [
    "from typing import List\n",
    "\n",
    "import matplotlib.pyplot as plt\n",
    "import pandas as pd\n",
    "import seaborn as sns\n",
    "from tqdm import tqdm\n",
    "\n",
    "# from battery import SimpleBattery\n",
    "\n",
    "\n",
    "class SimpleAgent:\n",
    "    \"\"\"\n",
    "    Buy: market price < past last x days average price\n",
    "    Sell: market price > past last x days average price\n",
    "    \"\"\"\n",
    "\n",
    "    def __init__(self, actions: List):\n",
    "        self.actions = actions\n",
    "\n",
    "    def get_action(self, state):\n",
    "        market_price = state[2]\n",
    "        past_average_price = sum(state[-5:]) / len(state[-5:])\n",
    "\n",
    "        if market_price > past_average_price:\n",
    "            action = SimpleBattery.DISCHARGE\n",
    "        elif market_price < past_average_price:\n",
    "            action = SimpleBattery.CHARGE\n",
    "        else:\n",
    "            action = SimpleBattery.HOLD\n",
    "\n",
    "        return action\n",
    "\n",
    "\n",
    "if __name__ == \"__main__\":\n",
    "    np.random.seed(1)\n",
    "    env = SimpleBattery(env_config)\n",
    "    agent = SimpleAgent([SimpleBattery.CHARGE, SimpleBattery.DISCHARGE, SimpleBattery.HOLD])\n",
    "    EPISODE = 100\n",
    "    rewards_list = []\n",
    "    history_list: List = []\n",
    "\n",
    "    for i in tqdm(range(EPISODE)):\n",
    "        done = False\n",
    "        state = env.reset()\n",
    "        total_rewards = 0\n",
    "\n",
    "        while not done:\n",
    "            action = agent.get_action(state)\n",
    "            next_state, reward, done, info = env.step(action)\n",
    "            total_rewards += reward\n",
    "            history_list.append([i] + [total_rewards] + [action] + state)\n",
    "            state = next_state\n",
    "\n",
    "        # print(f\"Episode {i+1} ({env.counter}):{total_rewards}\")\n",
    "        rewards_list.append(total_rewards)\n",
    "\n",
    "    average_reward = sum(rewards_list) / len(rewards_list)\n",
    "    print(f\"Average reward: {average_reward}\")\n",
    "    \n",
    "    df_cols = [\n",
    "        \"episode\",\n",
    "        \"total_reward\",\n",
    "        \"action\",\n",
    "        \"energy\",\n",
    "        \"cost\",\n",
    "        \"price\",\n",
    "        \"price_t1\",\n",
    "        \"price_t2\",\n",
    "        \"price_t3\",\n",
    "        \"price_t4\",\n",
    "        \"price_t5\",\n",
    "    ]\n",
    "    df_history = pd.DataFrame(history_list, columns=df_cols)\n",
    "    print(\"df_history\", df_history.shape)"
   ]
  },
  {
   "cell_type": "code",
   "execution_count": null,
   "id": "7194623f",
   "metadata": {},
   "outputs": [],
   "source": [
    "plot_reward(rewards_list)"
   ]
  },
  {
   "cell_type": "markdown",
   "id": "4905a290",
   "metadata": {},
   "source": [
    "**Observation**\n",
    "\n",
    "    CHARGE = 0\n",
    "    DISCHARGE = 1\n",
    "    HOLD = 2\n",
    "    \n",
    "- Agent will start selling when market price is increasing (high than last 5 days average), and buy when market price is dropping."
   ]
  },
  {
   "cell_type": "code",
   "execution_count": null,
   "id": "4d6a7e36",
   "metadata": {},
   "outputs": [],
   "source": [
    "np.random.seed(2)\n",
    "df_eval = evaluate_episode(agent, env_config)\n",
    "plot_analysis(df_eval)"
   ]
  },
  {
   "cell_type": "code",
   "execution_count": null,
   "id": "20ea1a23",
   "metadata": {},
   "outputs": [],
   "source": [
    "df_eval['reward'].sum()"
   ]
  },
  {
   "cell_type": "code",
   "execution_count": null,
   "id": "361fc4d1",
   "metadata": {},
   "outputs": [],
   "source": [
    "import pandas as pd\n",
    "import seaborn as sns\n",
    "import matplotlib.pyplot as plt\n",
    "df = pd.read_csv(\"../refdata/PRICE_AND_DEMAND_2020FULL_NSW1.csv\")\n",
    "df[\"SETTLEMENTDATE\"] = pd.to_datetime(df[\"SETTLEMENTDATE\"])\n",
    "df = df.resample(\"1h\", on=\"SETTLEMENTDATE\").mean()\n",
    "df = df.reset_index(drop=False)\n",
    "df = df.rename(columns={\"TOTALDEMAND\": \"demand\", \"RRP\": \"price\", \"SETTLEMENTDATE\": \"time\"})\n",
    "# Remove outlier (> $100)\n",
    "df = df[df['price']<=100]\n",
    "print(df.shape)"
   ]
  },
  {
   "cell_type": "code",
   "execution_count": null,
   "id": "a8ebe5f7",
   "metadata": {},
   "outputs": [],
   "source": [
    "fig, ax = plt.subplots(figsize=(15,5))\n",
    "sns.lineplot(ax=ax, data=df, x='time',y='price', )\n"
   ]
  },
  {
   "cell_type": "markdown",
   "id": "e7732f56",
   "metadata": {},
   "source": [
    "# Save reports"
   ]
  },
  {
   "cell_type": "code",
   "execution_count": null,
   "id": "b3d7ea2a",
   "metadata": {},
   "outputs": [],
   "source": [
    "ReportIO('reports').save2(rewards_list, df_eval, close_fig=True)"
   ]
  },
  {
   "cell_type": "code",
   "execution_count": null,
   "id": "0165f6c3",
   "metadata": {},
   "outputs": [],
   "source": []
  }
 ],
 "metadata": {
  "kernelspec": {
   "display_name": "Python 3",
   "language": "python",
   "name": "python3"
  },
  "language_info": {
   "codemirror_mode": {
    "name": "ipython",
    "version": 3
   },
   "file_extension": ".py",
   "mimetype": "text/x-python",
   "name": "python",
   "nbconvert_exporter": "python",
   "pygments_lexer": "ipython3",
   "version": "3.9.5"
  },
  "toc-autonumbering": true
 },
 "nbformat": 4,
 "nbformat_minor": 5
}
